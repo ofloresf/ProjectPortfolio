{
  "nbformat": 4,
  "nbformat_minor": 0,
  "metadata": {
    "colab": {
      "provenance": []
    },
    "kernelspec": {
      "name": "python3",
      "display_name": "Python 3"
    },
    "language_info": {
      "name": "python"
    }
  },
  "cells": [
    {
      "cell_type": "code",
      "execution_count": null,
      "metadata": {
        "id": "l3DDbx1em1s0"
      },
      "outputs": [],
      "source": [
        "import pandas as pd\n",
        "\n",
        "df = pd.read_csv(\"bp.txt\", sep=\" \")\n",
        "\n",
        "# split the bp column into two columns at the '/'\n",
        "\n",
        "df[['systolic', 'diastolic']] = df['bp'].str.split('/', expand=True)\n",
        "\n",
        "# view the updated DataFrame\n",
        "\n",
        "print(df)\n",
        "\n",
        "# save the data to a new (CSV) file\n",
        "df.to_csv('bp.csv')"
      ]
    }
  ]
}