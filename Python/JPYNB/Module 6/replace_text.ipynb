{
  "nbformat": 4,
  "nbformat_minor": 0,
  "metadata": {
    "colab": {
      "provenance": []
    },
    "kernelspec": {
      "name": "python3",
      "display_name": "Python 3"
    },
    "language_info": {
      "name": "python"
    }
  },
  "cells": [
    {
      "cell_type": "code",
      "execution_count": null,
      "metadata": {
        "id": "X1ps0HJ_lcWe"
      },
      "outputs": [],
      "source": [
        "# creating a variable and storing the text\n",
        "# that we want to search\n",
        "\n",
        "search_text = \"|\"\n",
        "\n",
        "# creating a variable and storing the text\n",
        "# that we want to add\n",
        "\n",
        "replace_text = \"/\"\n",
        "\n",
        "# Opening our text file in read only\n",
        "# mode using the open() function\n",
        "\n",
        "with open(r'bp.txt', 'r') as file:\n",
        "    # Reading the content of the file\n",
        "    # using the read() function and storing\n",
        "    # them in a new variable\n",
        "\n",
        "    data = file.read()\n",
        "\n",
        "    # Searching and replacing the text\n",
        "    # using the replace() function\n",
        "\n",
        "    data = data.replace(search_text, replace_text)\n",
        "\n",
        "# Opening our text file in write only\n",
        "# mode to write the replaced content\n",
        "\n",
        "with open(r'bp.txt', 'w') as file:\n",
        "    # Writing the replaced data in our\n",
        "    # text file\n",
        "    file.write(data)\n",
        "\n",
        "# Printing Text replaced\n",
        "\n",
        "print(\"Incorrect delimiter replaced\")"
      ]
    }
  ]
}
