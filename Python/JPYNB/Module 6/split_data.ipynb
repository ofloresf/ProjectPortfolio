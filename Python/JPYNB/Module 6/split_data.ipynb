{
  "nbformat": 4,
  "nbformat_minor": 0,
  "metadata": {
    "colab": {
      "provenance": []
    },
    "kernelspec": {
      "name": "python3",
      "display_name": "Python 3"
    },
    "language_info": {
      "name": "python"
    }
  },
  "cells": [
    {
      "cell_type": "code",
      "execution_count": null,
      "metadata": {
        "id": "gblJaiYLmd5M"
      },
      "outputs": [],
      "source": [
        "import pandas as pd\n",
        "\n",
        "# create a sample DataFrame\n",
        "df = pd.DataFrame({'bp': ['145/91', '138/77', '120/80']})\n",
        "\n",
        "# split the bp column into two columns\n",
        "df[['systolic', 'diastolic']] = df['bp'].str.split('/', expand=True)\n",
        "\n",
        "# view the updated DataFrame\n",
        "print(df)"
      ]
    }
  ]
}
