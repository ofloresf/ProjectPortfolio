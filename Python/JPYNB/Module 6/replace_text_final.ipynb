{
  "nbformat": 4,
  "nbformat_minor": 0,
  "metadata": {
    "colab": {
      "provenance": []
    },
    "kernelspec": {
      "name": "python3",
      "display_name": "Python 3"
    },
    "language_info": {
      "name": "python"
    }
  },
  "cells": [
    {
      "cell_type": "code",
      "execution_count": null,
      "metadata": {
        "id": "ZJYi2lNMmGAG"
      },
      "outputs": [],
      "source": [
        "# creating a variable and storing the text\n",
        "# that we want to search\n",
        "search_text = [\"|\", \".\", \",\", \";\", \"-\"]\n",
        "\n",
        "\n",
        "replace_text = \"/\"\n",
        "\n",
        "\n",
        "with open(r'bp.txt', 'r') as file:\n",
        "\n",
        "    data = file.read()\n",
        "\n",
        "    # Searching and replacing the text\n",
        "    # using the replace() function\n",
        "\n",
        "    for item in search_text:\n",
        "        data = data.replace(item, replace_text)\n",
        "\n",
        "\n",
        "# Opening our text file in write only\n",
        "# mode to write the replaced content\n",
        "\n",
        "with open(r'bp.txt', 'w') as file:\n",
        "    # Writing the replaced data in our\n",
        "    # text file\n",
        "    file.write(data)\n",
        "\n",
        "# Printing Text replaced\n",
        "print(\"Incorrect delimiters replaced\")"
      ]
    }
  ]
}
