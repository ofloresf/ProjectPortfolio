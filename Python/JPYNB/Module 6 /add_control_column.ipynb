{
  "nbformat": 4,
  "nbformat_minor": 0,
  "metadata": {
    "colab": {
      "provenance": []
    },
    "kernelspec": {
      "name": "python3",
      "display_name": "Python 3"
    },
    "language_info": {
      "name": "python"
    }
  },
  "cells": [
    {
      "cell_type": "code",
      "execution_count": null,
      "metadata": {
        "id": "g_P0aQUVnPpY"
      },
      "outputs": [],
      "source": [
        "\n",
        "import pandas as pd\n",
        "df = pd.read_csv(\"bp.csv\")\n",
        "\n",
        "df.loc[(df['systolic'] < 140) & (df['diastolic'] < 90), 'control'] = 'Y'\n",
        "df.loc[(df['systolic'] >= 140) | (df['diastolic'] >= 90), 'control'] = 'N'\n",
        "\n",
        "df.head()\n",
        "print(df)\n",
        "df.to_csv('bp_control.csv')"
      ]
    }
  ]
}
